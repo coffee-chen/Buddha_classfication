{
  "cells": [
    {
      "cell_type": "code",
      "execution_count": null,
      "id": "5021e22f-7a82-465b-be72-4b1c8bbce7ea",
      "metadata": {
        "id": "5021e22f-7a82-465b-be72-4b1c8bbce7ea"
      },
      "outputs": [],
      "source": [
        "import os\n",
        "import re\n",
        "import jsonlines\n",
        "from transformers import AutoTokenizer, AutoModelForSequenceClassification, Trainer, TrainingArguments, DataCollatorWithPadding\n",
        "from datasets import load_dataset, load_metric\n",
        "import numpy as np\n",
        "import torch\n"
      ]
    },
    {
      "cell_type": "code",
      "execution_count": null,
      "id": "faac9e23-616f-47a4-abb3-11108f72cc69",
      "metadata": {
        "id": "faac9e23-616f-47a4-abb3-11108f72cc69"
      },
      "outputs": [],
      "source": [
        "\n",
        "\n",
        "def read_and_clean_data(file_path, encoding='latin-1'):\n",
        "    with open(file_path, encoding=encoding) as f:\n",
        "        text = f.read()\n",
        "    text = re.sub(r'^\\d+\\.\\d+\\s*|§ \\d+\\.\\s*', '', text, flags=re.M)  # remove  §\n",
        "    text = re.sub(r'\\.\\.\\.', '.', text)  # # remove ...\n",
        "    text = re.sub(r'[\"“”]', '', text)  #  remove \"\"\n",
        "    text = re.sub(r':', '', text)  # remove :\n",
        "    text = re.sub(r'[0-9]+', '', text)  #  remove 0~9\n",
        "    text = re.sub(r'([.?!])\\s+', r'\\1\\n', text)  # add \\n\n",
        "    text = re.sub(r'^[\\.]|\\.\\s(?=$|\\s)', '', text)  #  remove .\n",
        "    text = re.sub(r'&', 'and', text)  # replace & toand\n",
        "    text = re.sub(r'\\s{2,}', ' ', text)  # move extra space\n",
        "    text = text.lower()  # lowers\n",
        "    sentences = re.split(r'\\n', text)\n",
        "    cleaned_sentences = [sentence.strip() for sentence in sentences if sentence.strip()]\n",
        "    return cleaned_sentences"
      ]
    },
    {
      "cell_type": "code",
      "execution_count": null,
      "id": "6ace7bee-e6ee-4e53-b8ca-3a5a5cd4b301",
      "metadata": {
        "id": "6ace7bee-e6ee-4e53-b8ca-3a5a5cd4b301"
      },
      "outputs": [],
      "source": [
        "folder_path = '/home/nlplab/coffee/NLP_final/data/'\n",
        "buddhantao_text = read_and_clean_data(os.path.join(folder_path, 'buddhantao.txt'))\n",
        "notbuddhantao_text = read_and_clean_data(os.path.join(folder_path, 'notbuddhantao.txt'))\n"
      ]
    },
    {
      "cell_type": "code",
      "execution_count": null,
      "id": "26209835-c958-4b11-bf0e-a9465d9c0862",
      "metadata": {
        "id": "26209835-c958-4b11-bf0e-a9465d9c0862"
      },
      "outputs": [],
      "source": [
        "\n",
        "data_list = [{'label': 0, 'text': sentence} for sentence in buddhantao_text] + [{'label': 1, 'text': sentence} for sentence in notbuddhantao_text]\n",
        "\n"
      ]
    },
    {
      "cell_type": "code",
      "execution_count": null,
      "id": "a305390d-a1ee-44e2-a5fd-facf33d44dd6",
      "metadata": {
        "id": "a305390d-a1ee-44e2-a5fd-facf33d44dd6"
      },
      "outputs": [],
      "source": [
        "\n",
        "with jsonlines.open(os.path.join(folder_path, 'data3.jsonlines'), mode='w') as writer:\n",
        "    for data in data_list:\n",
        "        writer.write(data)\n"
      ]
    },
    {
      "cell_type": "code",
      "execution_count": null,
      "id": "e9c9f1f5-d093-4693-adb3-742596548d8a",
      "metadata": {
        "colab": {
          "referenced_widgets": [
            "6902cf6c30b348ccb0d7d0152183024b"
          ]
        },
        "id": "e9c9f1f5-d093-4693-adb3-742596548d8a",
        "outputId": "858ac699-d8af-400a-bd92-95ced1bf032e"
      },
      "outputs": [
        {
          "data": {
            "application/vnd.jupyter.widget-view+json": {
              "model_id": "6902cf6c30b348ccb0d7d0152183024b",
              "version_major": 2,
              "version_minor": 0
            },
            "text/plain": [
              "Generating train split: 0 examples [00:00, ? examples/s]"
            ]
          },
          "metadata": {},
          "output_type": "display_data"
        }
      ],
      "source": [
        "\n",
        "\n",
        "dataset = load_dataset(\"json\", data_files=os.path.join(folder_path, 'data3.jsonlines'))\n"
      ]
    },
    {
      "cell_type": "code",
      "execution_count": null,
      "id": "306007cc-6f2f-4436-ac56-d82a88e16413",
      "metadata": {
        "id": "306007cc-6f2f-4436-ac56-d82a88e16413"
      },
      "outputs": [],
      "source": [
        "dataset_train_test = dataset[\"train\"].train_test_split(test_size=1000)\n",
        "dataset[\"test\"] = dataset_train_test[\"test\"]\n"
      ]
    },
    {
      "cell_type": "code",
      "execution_count": null,
      "id": "2f5b9901-2bec-4038-bdae-6f71b980877c",
      "metadata": {
        "id": "2f5b9901-2bec-4038-bdae-6f71b980877c",
        "outputId": "abce24b6-711a-4fc9-c4d7-25c5ed2cbb9f"
      },
      "outputs": [
        {
          "name": "stderr",
          "output_type": "stream",
          "text": [
            "Some weights of DistilBertForSequenceClassification were not initialized from the model checkpoint at distilbert-base-uncased and are newly initialized: ['classifier.bias', 'classifier.weight', 'pre_classifier.bias', 'pre_classifier.weight']\n",
            "You should probably TRAIN this model on a down-stream task to be able to use it for predictions and inference.\n"
          ]
        }
      ],
      "source": [
        "\n",
        "\n",
        "tokenizer = AutoTokenizer.from_pretrained(\"distilbert-base-uncased\")\n",
        "model = AutoModelForSequenceClassification.from_pretrained(\"distilbert-base-uncased\", num_labels=2)\n"
      ]
    },
    {
      "cell_type": "code",
      "execution_count": null,
      "id": "9042f628-0732-4ab8-a35e-c4a98538d2bf",
      "metadata": {
        "id": "9042f628-0732-4ab8-a35e-c4a98538d2bf"
      },
      "outputs": [],
      "source": [
        "\n",
        "\n",
        "def preprocess_function(examples):\n",
        "    return tokenizer(examples[\"text\"], truncation=True)\n",
        "\n"
      ]
    },
    {
      "cell_type": "code",
      "execution_count": null,
      "id": "fe57b151-db96-44b3-b83d-88ebfdef7284",
      "metadata": {
        "colab": {
          "referenced_widgets": [
            "6c0590a44183494e9842ed7ed1a812a9",
            "bf2ca6fdd26a40429f39d9461125e695"
          ]
        },
        "id": "fe57b151-db96-44b3-b83d-88ebfdef7284",
        "outputId": "0fdef123-d52b-4ec5-9e74-9c70943689a1"
      },
      "outputs": [
        {
          "data": {
            "application/vnd.jupyter.widget-view+json": {
              "model_id": "6c0590a44183494e9842ed7ed1a812a9",
              "version_major": 2,
              "version_minor": 0
            },
            "text/plain": [
              "Map:   0%|          | 0/9365 [00:00<?, ? examples/s]"
            ]
          },
          "metadata": {},
          "output_type": "display_data"
        },
        {
          "data": {
            "application/vnd.jupyter.widget-view+json": {
              "model_id": "bf2ca6fdd26a40429f39d9461125e695",
              "version_major": 2,
              "version_minor": 0
            },
            "text/plain": [
              "Map:   0%|          | 0/1000 [00:00<?, ? examples/s]"
            ]
          },
          "metadata": {},
          "output_type": "display_data"
        }
      ],
      "source": [
        "tokenized_dataset = dataset.map(preprocess_function, batched=True)\n",
        "data_collator = DataCollatorWithPadding(tokenizer=tokenizer)\n"
      ]
    },
    {
      "cell_type": "code",
      "execution_count": null,
      "id": "af727076-5b62-4fac-a962-db3449d65c8e",
      "metadata": {
        "id": "af727076-5b62-4fac-a962-db3449d65c8e",
        "outputId": "42409d17-2b0c-4522-c1ba-2c7c8ce396bd"
      },
      "outputs": [
        {
          "name": "stderr",
          "output_type": "stream",
          "text": [
            "<ipython-input-64-42e1d56e2849>:2: FutureWarning: load_metric is deprecated and will be removed in the next major version of datasets. Use 'evaluate.load' instead, from the new library 🤗 Evaluate: https://huggingface.co/docs/evaluate\n",
            "  accuracy = load_metric(\"accuracy\")\n"
          ]
        }
      ],
      "source": [
        "accuracy = load_metric(\"accuracy\")\n"
      ]
    },
    {
      "cell_type": "code",
      "execution_count": null,
      "id": "43cc669c-2887-4cfd-a5bf-f7642ee91c16",
      "metadata": {
        "id": "43cc669c-2887-4cfd-a5bf-f7642ee91c16"
      },
      "outputs": [],
      "source": [
        "def compute_metrics(eval_pred):\n",
        "    predictions, labels = eval_pred\n",
        "    predictions = np.argmax(predictions, axis=1)\n",
        "    return accuracy.compute(predictions=predictions, references=labels)\n"
      ]
    },
    {
      "cell_type": "code",
      "execution_count": null,
      "id": "2b5c58d4-94fc-4a79-a210-b052af5eedd1",
      "metadata": {
        "id": "2b5c58d4-94fc-4a79-a210-b052af5eedd1"
      },
      "outputs": [],
      "source": [
        "\n",
        "training_args = TrainingArguments(\n",
        "    output_dir=\"my_good_model\",\n",
        "    learning_rate=2e-5,\n",
        "    per_device_train_batch_size=16,\n",
        "    per_device_eval_batch_size=16,\n",
        "    num_train_epochs=3,\n",
        "    weight_decay=0.01,\n",
        "    eval_strategy=\"epoch\",\n",
        "    save_strategy=\"epoch\",\n",
        "    load_best_model_at_end=True,\n",
        ")\n"
      ]
    },
    {
      "cell_type": "code",
      "execution_count": null,
      "id": "d434a872-cab3-42fe-a056-eb5e407b1b3f",
      "metadata": {
        "id": "d434a872-cab3-42fe-a056-eb5e407b1b3f",
        "outputId": "222a1387-6fcd-4528-9c0a-49a5a5aeb200"
      },
      "outputs": [
        {
          "name": "stderr",
          "output_type": "stream",
          "text": [
            "Detected kernel version 5.4.0, which is below the recommended minimum of 5.5.0; this can cause the process to hang. It is recommended to upgrade the kernel to the minimum version or higher.\n",
            "/home/nlplab/coffee/.local/lib/python3.8/site-packages/torch/nn/parallel/_functions.py:68: UserWarning: Was asked to gather along dimension 0, but all input tensors were scalars; will instead unsqueeze and return a vector.\n",
            "  warnings.warn('Was asked to gather along dimension 0, but all '\n"
          ]
        },
        {
          "data": {
            "text/html": [
              "\n",
              "    <div>\n",
              "      \n",
              "      <progress value='879' max='879' style='width:300px; height:20px; vertical-align: middle;'></progress>\n",
              "      [879/879 02:18, Epoch 3/3]\n",
              "    </div>\n",
              "    <table border=\"1\" class=\"dataframe\">\n",
              "  <thead>\n",
              " <tr style=\"text-align: left;\">\n",
              "      <th>Epoch</th>\n",
              "      <th>Training Loss</th>\n",
              "      <th>Validation Loss</th>\n",
              "      <th>Accuracy</th>\n",
              "    </tr>\n",
              "  </thead>\n",
              "  <tbody>\n",
              "    <tr>\n",
              "      <td>1</td>\n",
              "      <td>No log</td>\n",
              "      <td>0.020689</td>\n",
              "      <td>0.992000</td>\n",
              "    </tr>\n",
              "    <tr>\n",
              "      <td>2</td>\n",
              "      <td>0.034400</td>\n",
              "      <td>0.001624</td>\n",
              "      <td>0.999000</td>\n",
              "    </tr>\n",
              "    <tr>\n",
              "      <td>3</td>\n",
              "      <td>0.034400</td>\n",
              "      <td>0.000257</td>\n",
              "      <td>1.000000</td>\n",
              "    </tr>\n",
              "  </tbody>\n",
              "</table><p>"
            ],
            "text/plain": [
              "<IPython.core.display.HTML object>"
            ]
          },
          "metadata": {},
          "output_type": "display_data"
        },
        {
          "name": "stderr",
          "output_type": "stream",
          "text": [
            "/home/nlplab/coffee/.local/lib/python3.8/site-packages/torch/nn/parallel/_functions.py:68: UserWarning: Was asked to gather along dimension 0, but all input tensors were scalars; will instead unsqueeze and return a vector.\n",
            "  warnings.warn('Was asked to gather along dimension 0, but all '\n",
            "/home/nlplab/coffee/.local/lib/python3.8/site-packages/torch/nn/parallel/_functions.py:68: UserWarning: Was asked to gather along dimension 0, but all input tensors were scalars; will instead unsqueeze and return a vector.\n",
            "  warnings.warn('Was asked to gather along dimension 0, but all '\n"
          ]
        },
        {
          "data": {
            "text/plain": [
              "TrainOutput(global_step=879, training_loss=0.024907504874827242, metrics={'train_runtime': 138.3909, 'train_samples_per_second': 203.012, 'train_steps_per_second': 6.352, 'total_flos': 510934000927056.0, 'train_loss': 0.024907504874827242, 'epoch': 3.0})"
            ]
          },
          "execution_count": 86,
          "metadata": {},
          "output_type": "execute_result"
        }
      ],
      "source": [
        "\n",
        "# 訓練\n",
        "trainer = Trainer(\n",
        "    model=model,\n",
        "    args=training_args,\n",
        "    train_dataset=tokenized_dataset[\"train\"],\n",
        "    eval_dataset=tokenized_dataset[\"test\"],\n",
        "    tokenizer=tokenizer,\n",
        "    data_collator=data_collator,\n",
        "    compute_metrics=compute_metrics,\n",
        ")\n",
        "\n",
        "trainer.train()\n"
      ]
    },
    {
      "cell_type": "code",
      "execution_count": null,
      "id": "dc32e854-a77f-4c49-81bf-a52b10ad90a1",
      "metadata": {
        "id": "dc32e854-a77f-4c49-81bf-a52b10ad90a1",
        "outputId": "b0064940-c9ac-4585-ca79-983de6326bbf"
      },
      "outputs": [
        {
          "data": {
            "text/plain": [
              "('/home/nlplab/coffee/NLP_final/data/my_good_model/tokenizer_config.json',\n",
              " '/home/nlplab/coffee/NLP_final/data/my_good_model/special_tokens_map.json',\n",
              " '/home/nlplab/coffee/NLP_final/data/my_good_model/vocab.txt',\n",
              " '/home/nlplab/coffee/NLP_final/data/my_good_model/added_tokens.json',\n",
              " '/home/nlplab/coffee/NLP_final/data/my_good_model/tokenizer.json')"
            ]
          },
          "execution_count": 87,
          "metadata": {},
          "output_type": "execute_result"
        }
      ],
      "source": [
        "\n",
        "model.save_pretrained(\"/home/nlplab/coffee/NLP_final/data/my_good_model\")\n",
        "tokenizer.save_pretrained(\"/home/nlplab/coffee/NLP_final/data/my_good_model\")"
      ]
    },
    {
      "cell_type": "code",
      "execution_count": null,
      "id": "a7d32dde-d32e-47d4-8ad8-bbc48473c7d7",
      "metadata": {
        "id": "a7d32dde-d32e-47d4-8ad8-bbc48473c7d7"
      },
      "outputs": [],
      "source": [
        "from transformers import AutoModelForSequenceClassification, AutoTokenizer"
      ]
    },
    {
      "cell_type": "code",
      "execution_count": null,
      "id": "408750fd-91c8-49f2-b00c-968534b0833c",
      "metadata": {
        "id": "408750fd-91c8-49f2-b00c-968534b0833c"
      },
      "outputs": [],
      "source": [
        "\n",
        "model_path = \"/home/nlplab/coffee/NLP_final/data/my_good_model\"\n",
        "model = AutoModelForSequenceClassification.from_pretrained(model_path)\n",
        "tokenizer = AutoTokenizer.from_pretrained(model_path)\n"
      ]
    },
    {
      "cell_type": "code",
      "execution_count": null,
      "id": "70f478ec-4d13-4797-9581-5022d9014f9e",
      "metadata": {
        "id": "70f478ec-4d13-4797-9581-5022d9014f9e"
      },
      "outputs": [],
      "source": [
        "\n",
        "text = \"it would be a skillful bodily act with happy consequences, happy results, then any bodily act of that sort is fit for you to do.\"\n",
        "\n",
        "\n",
        "encoded_input = tokenizer(text, return_tensors=\"pt\")\n"
      ]
    },
    {
      "cell_type": "code",
      "execution_count": null,
      "id": "d89f5e87-2c7d-49d7-b34c-53b60ea46e7b",
      "metadata": {
        "id": "d89f5e87-2c7d-49d7-b34c-53b60ea46e7b"
      },
      "outputs": [],
      "source": [
        "\n",
        "with torch.no_grad():\n",
        "    outputs = model(**encoded_input)\n",
        "    logits = outputs.logits\n"
      ]
    },
    {
      "cell_type": "code",
      "execution_count": null,
      "id": "10494ece-5c13-4666-83d5-dd2d01ba7b0a",
      "metadata": {
        "id": "10494ece-5c13-4666-83d5-dd2d01ba7b0a"
      },
      "outputs": [],
      "source": [
        "\n",
        "predictions = torch.argmax(logits, dim=-1)\n",
        "predicted_label = predictions.item()\n"
      ]
    },
    {
      "cell_type": "code",
      "execution_count": null,
      "id": "f5cd78a8-9e23-4037-b1ef-3d4e2793d44c",
      "metadata": {
        "id": "f5cd78a8-9e23-4037-b1ef-3d4e2793d44c",
        "outputId": "0dca438e-9e39-40bd-a1a3-953d998080ac"
      },
      "outputs": [
        {
          "name": "stdout",
          "output_type": "stream",
          "text": [
            "Predicted label: It's Buddha & Tao!\n"
          ]
        }
      ],
      "source": [
        "\n",
        "id2label = {0: \"It's Buddha & Tao!\", 1: \"It's NOT Buddha & Tao\"}\n",
        "predicted_label_str = id2label[predicted_label]\n",
        "\n",
        "print(f\"Predicted label: {predicted_label_str}\")"
      ]
    },
    {
      "cell_type": "code",
      "execution_count": null,
      "id": "8c1e8791-7eea-43e0-b06b-e7ac33df567d",
      "metadata": {
        "id": "8c1e8791-7eea-43e0-b06b-e7ac33df567d"
      },
      "outputs": [],
      "source": []
    },
    {
      "cell_type": "code",
      "execution_count": null,
      "id": "13a47d0c-380e-4c1d-ada3-b3b210d6960d",
      "metadata": {
        "id": "13a47d0c-380e-4c1d-ada3-b3b210d6960d"
      },
      "outputs": [],
      "source": []
    },
    {
      "cell_type": "code",
      "execution_count": null,
      "id": "9ff63eaf-618e-4d4e-922f-22dc28f60cba",
      "metadata": {
        "id": "9ff63eaf-618e-4d4e-922f-22dc28f60cba"
      },
      "outputs": [],
      "source": []
    },
    {
      "cell_type": "code",
      "execution_count": null,
      "id": "5e340832-7472-485c-a425-8fc1ef7accb1",
      "metadata": {
        "id": "5e340832-7472-485c-a425-8fc1ef7accb1"
      },
      "outputs": [],
      "source": []
    },
    {
      "cell_type": "code",
      "execution_count": null,
      "id": "886a321f-81a1-4ac1-9697-1b8bbe67ddaf",
      "metadata": {
        "id": "886a321f-81a1-4ac1-9697-1b8bbe67ddaf"
      },
      "outputs": [],
      "source": []
    },
    {
      "cell_type": "code",
      "execution_count": null,
      "id": "096a40cb-df4b-452d-bb0e-f3b0aba7c750",
      "metadata": {
        "id": "096a40cb-df4b-452d-bb0e-f3b0aba7c750"
      },
      "outputs": [],
      "source": []
    },
    {
      "cell_type": "code",
      "execution_count": null,
      "id": "85ac4450-efbf-49c5-9756-738508f9fdf3",
      "metadata": {
        "id": "85ac4450-efbf-49c5-9756-738508f9fdf3"
      },
      "outputs": [],
      "source": []
    },
    {
      "cell_type": "code",
      "execution_count": null,
      "id": "a9b9d2d0-7ec8-4c23-a2b8-27775403c96b",
      "metadata": {
        "id": "a9b9d2d0-7ec8-4c23-a2b8-27775403c96b"
      },
      "outputs": [],
      "source": []
    },
    {
      "cell_type": "code",
      "execution_count": null,
      "id": "b72f8d7d-0a39-4ba5-8a83-c182e033627a",
      "metadata": {
        "id": "b72f8d7d-0a39-4ba5-8a83-c182e033627a"
      },
      "outputs": [],
      "source": []
    },
    {
      "cell_type": "code",
      "execution_count": null,
      "id": "0129529c-1fbd-4fc9-9836-a019d69b16c4",
      "metadata": {
        "id": "0129529c-1fbd-4fc9-9836-a019d69b16c4"
      },
      "outputs": [],
      "source": []
    },
    {
      "cell_type": "code",
      "execution_count": null,
      "id": "0000b96e-533d-44c3-8e36-8d1e5800a07f",
      "metadata": {
        "id": "0000b96e-533d-44c3-8e36-8d1e5800a07f"
      },
      "outputs": [],
      "source": []
    },
    {
      "cell_type": "code",
      "execution_count": null,
      "id": "d32187df-209f-448d-937e-c34442f1be9d",
      "metadata": {
        "id": "d32187df-209f-448d-937e-c34442f1be9d"
      },
      "outputs": [],
      "source": []
    },
    {
      "cell_type": "code",
      "execution_count": null,
      "id": "322f06ac-cf7e-4b8a-abbe-d648ca88f46c",
      "metadata": {
        "id": "322f06ac-cf7e-4b8a-abbe-d648ca88f46c"
      },
      "outputs": [],
      "source": []
    },
    {
      "cell_type": "code",
      "execution_count": null,
      "id": "6f5da07d-04ee-481d-85b0-8f7bf830adfb",
      "metadata": {
        "id": "6f5da07d-04ee-481d-85b0-8f7bf830adfb"
      },
      "outputs": [],
      "source": []
    },
    {
      "cell_type": "code",
      "execution_count": null,
      "id": "1dff68a0-ec3f-4003-8553-128af741c851",
      "metadata": {
        "id": "1dff68a0-ec3f-4003-8553-128af741c851"
      },
      "outputs": [],
      "source": []
    },
    {
      "cell_type": "code",
      "execution_count": null,
      "id": "92ae328a-aa1c-4e33-b3fa-c44afdca2436",
      "metadata": {
        "id": "92ae328a-aa1c-4e33-b3fa-c44afdca2436"
      },
      "outputs": [],
      "source": []
    },
    {
      "cell_type": "code",
      "execution_count": null,
      "id": "febcbba3-2b44-460b-b61d-ecc2ddab1a95",
      "metadata": {
        "id": "febcbba3-2b44-460b-b61d-ecc2ddab1a95"
      },
      "outputs": [],
      "source": []
    }
  ],
  "metadata": {
    "kernelspec": {
      "display_name": "Python 3",
      "language": "python",
      "name": "python3"
    },
    "language_info": {
      "codemirror_mode": {
        "name": "ipython",
        "version": 3
      },
      "file_extension": ".py",
      "mimetype": "text/x-python",
      "name": "python",
      "nbconvert_exporter": "python",
      "pygments_lexer": "ipython3",
      "version": "3.8.10"
    },
    "widgets": {
      "application/vnd.jupyter.widget-state+json": {}
    },
    "colab": {
      "provenance": []
    }
  },
  "nbformat": 4,
  "nbformat_minor": 5
}